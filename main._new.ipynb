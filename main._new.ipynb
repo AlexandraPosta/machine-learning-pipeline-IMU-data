{
 "cells": [
  {
   "cell_type": "markdown",
   "metadata": {},
   "source": [
    "# IMU Data Classification"
   ]
  },
  {
   "cell_type": "code",
   "execution_count": null,
   "metadata": {},
   "outputs": [],
   "source": [
    "# Visualisation\n",
    "import matplotlib.pyplot as plt\n",
    "from tabulate import tabulate\n",
    "import seaborn as sns\n",
    "import warnings\n",
    "\n",
    "# Data processing\n",
    "from sklearn.impute import KNNImputer\n",
    "\n",
    "# Helper functions\n",
    "from helper_filter import *\n",
    "from helper_preprocess import *"
   ]
  },
  {
   "cell_type": "markdown",
   "metadata": {},
   "source": [
    "## Filter data"
   ]
  },
  {
   "cell_type": "code",
   "execution_count": null,
   "metadata": {},
   "outputs": [],
   "source": [
    "# Read the raw data from each target action and store them in a list\n",
    "lqw_raw = load_data(\"./IMU_Data/LGW\")\n",
    "ramp_ascend_raw = load_data(\"./IMU_Data/Ramp_ascend\")\n",
    "ramp_descend_raw = load_data(\"./IMU_Data/Ramp_descend\")\n",
    "sit_to_stand_raw = load_data(\"./IMU_Data/Sit_to_stand\")\n",
    "stand_to_sit_raw = load_data(\"./IMU_Data/Stand_to_sit\")\n",
    "\n",
    "folders = [lqw_raw, ramp_ascend_raw, ramp_descend_raw, sit_to_stand_raw, stand_to_sit_raw]"
   ]
  },
  {
   "cell_type": "code",
   "execution_count": null,
   "metadata": {},
   "outputs": [],
   "source": [
    "# Drop all columns that contain sync, annotations and offset timestamps\n",
    "for folder in folders:\n",
    "    for file in folder:\n",
    "        # Drop all columns that contain sync, annotations and offset timestamps\n",
    "        file.data_filtered.drop(columns=[col for col in file.data_filtered.columns if \n",
    "                                any(info in col.lower() for info in [\"sync\", \"offset\", \"annotation\"])], inplace=True)\n",
    "        \n",
    "        # Drop all timestamp columns that are not \"Shank_L_Timestamp\"\n",
    "        for column in file.data_filtered.columns:\n",
    "            if \"timestamp\" in column.lower():\n",
    "                if column.lower() != \"shank_l_timestamp\":\n",
    "                    file.data_filtered.drop(columns=column, inplace=True)\n",
    "        \n",
    "        # Replace column name and place as the first index \n",
    "        file.data_filtered.rename(columns={'Shank_L_Timestamp': 'Timestamp'}, inplace=True)\n",
    "        col = file.data_filtered.pop('Timestamp')\n",
    "        file.data_filtered.insert(0, col.name, col)"
   ]
  },
  {
   "cell_type": "code",
   "execution_count": null,
   "metadata": {},
   "outputs": [],
   "source": [
    "# Replace NaN values with the k-Nearest Neighbor\n",
    "for folder in folders:\n",
    "    for file in folder:\n",
    "        if file.data_filtered.isnull().sum().sum() > 0:\n",
    "            imputer = KNNImputer(n_neighbors=5)\n",
    "            file.data_filtered = pd.DataFrame(imputer.fit_transform(file.data_filtered), \n",
    "                                              columns = file.data_filtered.columns)\n",
    "            \n",
    "# Check if any NaN values are left\n",
    "for folder in folders:\n",
    "    for file in folder:\n",
    "        if file.data_filtered.isnull().sum().sum() > 0: \n",
    "            print(\"NaN values left\")"
   ]
  },
  {
   "cell_type": "markdown",
   "metadata": {},
   "source": [
    "## Preprocess"
   ]
  },
  {
   "cell_type": "code",
   "execution_count": null,
   "metadata": {},
   "outputs": [],
   "source": [
    "# Remove outliers and smooth curve using a low pass filter\n",
    "for folder in folders:\n",
    "    for file in folder:\n",
    "        # Extract time column\n",
    "        time = file.data_filtered[\"Timestamp\"]\n",
    "\n",
    "        # Remove outliers\n",
    "        for name, data in file.data_filtered.items():\n",
    "            if name != 'Timestamp':\n",
    "                column = low_pass_filter(time, column)"
   ]
  },
  {
   "cell_type": "code",
   "execution_count": null,
   "metadata": {},
   "outputs": [],
   "source": [
    "# Apply the slinding window technique\n",
    "tw = 350        # window size\n",
    "dt = 50         # window step\n",
    "\n",
    "# Apply the moving average filter to the data and get all features\n",
    "for folder in folders:\n",
    "    for file in folder:\n",
    "        # Apply the slinding window to the data\n",
    "        with warnings.catch_warnings():\n",
    "            warnings.simplefilter(\"ignore\", category=pd.errors.PerformanceWarning)\n",
    "            file.data_processed = generate_features(file.data_filtered, tw, dt)\n",
    "\n",
    "        # Drop first row where the gradient is 0\n",
    "        file.data_processed = file.data_processed.iloc[1:]"
   ]
  }
 ],
 "metadata": {
  "language_info": {
   "name": "python"
  }
 },
 "nbformat": 4,
 "nbformat_minor": 2
}
