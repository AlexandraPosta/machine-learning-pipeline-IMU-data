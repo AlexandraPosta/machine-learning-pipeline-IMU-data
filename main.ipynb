{
 "cells": [
  {
   "cell_type": "markdown",
   "metadata": {},
   "source": [
    "# IMU Data Classification"
   ]
  },
  {
   "cell_type": "code",
   "execution_count": 2,
   "metadata": {},
   "outputs": [],
   "source": [
    "import os\n",
    "import pandas as pd\n",
    "import numpy as np\n",
    "import matplotlib.pyplot as plt\n",
    "import glob\n",
    "\n",
    "from helper_filter import *"
   ]
  },
  {
   "cell_type": "markdown",
   "metadata": {},
   "source": [
    "## Filter data\n",
    "### Extract data tables\n",
    "Read the raw data from each target action and preview data."
   ]
  },
  {
   "cell_type": "code",
   "execution_count": 15,
   "metadata": {},
   "outputs": [],
   "source": [
    "def load_data(folder_path):\n",
    "    file_list = glob.glob(folder_path + \"/*.dat\") \n",
    "    files =[]\n",
    "\n",
    "    for i in range(1, len(file_list)): \n",
    "        df = pd.read_csv(file_list[i], delimiter='\\t', header=None) \n",
    "\n",
    "        new_headers = [f\"{df.iloc[0][j]}_{df.iloc[1][j]}\"\n",
    "                       .replace(\"Wide Range Accelerometer\", \"Accelerometer\")\n",
    "                       .replace(\" \", \"_\") \n",
    "                       for j in range(0, len(df.columns))]\n",
    "        df.columns = new_headers\n",
    "        df = df.drop([0, 1, 2, 3])\n",
    "        df.reset_index(drop=True, inplace=True)\n",
    "\n",
    "        files.append(df)\n",
    "\n",
    "    return files\n",
    "\n",
    "lqw_raw = load_data(\"./IMU_Data/LGW\")"
   ]
  },
  {
   "cell_type": "code",
   "execution_count": 16,
   "metadata": {},
   "outputs": [
    {
     "data": {
      "text/html": [
       "<div>\n",
       "<style scoped>\n",
       "    .dataframe tbody tr th:only-of-type {\n",
       "        vertical-align: middle;\n",
       "    }\n",
       "\n",
       "    .dataframe tbody tr th {\n",
       "        vertical-align: top;\n",
       "    }\n",
       "\n",
       "    .dataframe thead th {\n",
       "        text-align: right;\n",
       "    }\n",
       "</style>\n",
       "<table border=\"1\" class=\"dataframe\">\n",
       "  <thead>\n",
       "    <tr style=\"text-align: right;\">\n",
       "      <th></th>\n",
       "      <th>Thigh_R_Timestamp</th>\n",
       "      <th>Thigh_R_Gyroscope X</th>\n",
       "      <th>Thigh_R_Gyroscope Y</th>\n",
       "      <th>Thigh_R_Gyroscope Z</th>\n",
       "      <th>Thigh_R_Wide Range Accelerometer X</th>\n",
       "      <th>Thigh_R_Wide Range Accelerometer Y</th>\n",
       "      <th>Thigh_R_Wide Range Accelerometer Z</th>\n",
       "      <th>Thigh_R_Magnetometer X</th>\n",
       "      <th>Thigh_R_Magnetometer Y</th>\n",
       "      <th>Thigh_R_Magnetometer Z</th>\n",
       "      <th>...</th>\n",
       "      <th>Pelvis_Gyroscope Y</th>\n",
       "      <th>Pelvis_Gyroscope Z</th>\n",
       "      <th>Pelvis_Wide Range Accelerometer X</th>\n",
       "      <th>Pelvis_Wide Range Accelerometer Y</th>\n",
       "      <th>Pelvis_Wide Range Accelerometer Z</th>\n",
       "      <th>Pelvis_Magnetometer X</th>\n",
       "      <th>Pelvis_Magnetometer Y</th>\n",
       "      <th>Pelvis_Magnetometer Z</th>\n",
       "      <th>Annotation_Pulse</th>\n",
       "      <th>Annotation_Level</th>\n",
       "    </tr>\n",
       "  </thead>\n",
       "  <tbody>\n",
       "    <tr>\n",
       "      <th>0</th>\n",
       "      <td>241787.1094</td>\n",
       "      <td>0.5345</td>\n",
       "      <td>1.2220</td>\n",
       "      <td>-0.8404</td>\n",
       "      <td>-2.1075</td>\n",
       "      <td>9.1086</td>\n",
       "      <td>3.2014</td>\n",
       "      <td>-0.2819</td>\n",
       "      <td>-0.7146</td>\n",
       "      <td>-0.2299</td>\n",
       "      <td>...</td>\n",
       "      <td>0.5600</td>\n",
       "      <td>0.0212</td>\n",
       "      <td>-0.1209</td>\n",
       "      <td>9.6397</td>\n",
       "      <td>-1.0211</td>\n",
       "      <td>-0.1688</td>\n",
       "      <td>-0.6494</td>\n",
       "      <td>-0.1636</td>\n",
       "      <td>0.0000</td>\n",
       "      <td>0.0000</td>\n",
       "    </tr>\n",
       "    <tr>\n",
       "      <th>1</th>\n",
       "      <td>241796.8750</td>\n",
       "      <td>0.5345</td>\n",
       "      <td>1.2220</td>\n",
       "      <td>-0.8404</td>\n",
       "      <td>-2.1090</td>\n",
       "      <td>9.0322</td>\n",
       "      <td>3.0518</td>\n",
       "      <td>-0.2819</td>\n",
       "      <td>-0.7223</td>\n",
       "      <td>-0.2321</td>\n",
       "      <td>...</td>\n",
       "      <td>0.5600</td>\n",
       "      <td>0.0212</td>\n",
       "      <td>-0.1209</td>\n",
       "      <td>9.7162</td>\n",
       "      <td>-1.0218</td>\n",
       "      <td>-0.1725</td>\n",
       "      <td>-0.6264</td>\n",
       "      <td>-0.1728</td>\n",
       "      <td>0.0000</td>\n",
       "      <td>0.0000</td>\n",
       "    </tr>\n",
       "    <tr>\n",
       "      <th>2</th>\n",
       "      <td>241806.6406</td>\n",
       "      <td>-0.2664</td>\n",
       "      <td>0.2175</td>\n",
       "      <td>-1.1036</td>\n",
       "      <td>-2.1872</td>\n",
       "      <td>9.1850</td>\n",
       "      <td>3.2015</td>\n",
       "      <td>-0.2800</td>\n",
       "      <td>-0.7049</td>\n",
       "      <td>-0.2148</td>\n",
       "      <td>...</td>\n",
       "      <td>0.5600</td>\n",
       "      <td>0.0212</td>\n",
       "      <td>-0.1209</td>\n",
       "      <td>9.7926</td>\n",
       "      <td>-1.0226</td>\n",
       "      <td>-0.1781</td>\n",
       "      <td>-0.6533</td>\n",
       "      <td>-0.1751</td>\n",
       "      <td>0.0000</td>\n",
       "      <td>0.0000</td>\n",
       "    </tr>\n",
       "    <tr>\n",
       "      <th>3</th>\n",
       "      <td>241816.4062</td>\n",
       "      <td>-0.2664</td>\n",
       "      <td>0.2175</td>\n",
       "      <td>-1.1036</td>\n",
       "      <td>-2.1082</td>\n",
       "      <td>9.1850</td>\n",
       "      <td>3.1255</td>\n",
       "      <td>-0.2876</td>\n",
       "      <td>-0.7049</td>\n",
       "      <td>-0.2169</td>\n",
       "      <td>...</td>\n",
       "      <td>1.0746</td>\n",
       "      <td>-0.0255</td>\n",
       "      <td>-0.2044</td>\n",
       "      <td>9.7123</td>\n",
       "      <td>-1.4106</td>\n",
       "      <td>-0.1744</td>\n",
       "      <td>-0.6513</td>\n",
       "      <td>-0.1728</td>\n",
       "      <td>0.0000</td>\n",
       "      <td>0.0000</td>\n",
       "    </tr>\n",
       "    <tr>\n",
       "      <th>4</th>\n",
       "      <td>241826.1719</td>\n",
       "      <td>-0.2664</td>\n",
       "      <td>0.2175</td>\n",
       "      <td>-1.1036</td>\n",
       "      <td>-2.0293</td>\n",
       "      <td>9.0322</td>\n",
       "      <td>3.0510</td>\n",
       "      <td>-0.2743</td>\n",
       "      <td>-0.6893</td>\n",
       "      <td>-0.2169</td>\n",
       "      <td>...</td>\n",
       "      <td>1.0746</td>\n",
       "      <td>-0.0255</td>\n",
       "      <td>-0.2793</td>\n",
       "      <td>9.7934</td>\n",
       "      <td>-0.9448</td>\n",
       "      <td>-0.1725</td>\n",
       "      <td>-0.6284</td>\n",
       "      <td>-0.1728</td>\n",
       "      <td>0.0000</td>\n",
       "      <td>0.0000</td>\n",
       "    </tr>\n",
       "  </tbody>\n",
       "</table>\n",
       "<p>5 rows × 72 columns</p>\n",
       "</div>"
      ],
      "text/plain": [
       "  Thigh_R_Timestamp Thigh_R_Gyroscope X Thigh_R_Gyroscope Y  \\\n",
       "0       241787.1094              0.5345              1.2220   \n",
       "1       241796.8750              0.5345              1.2220   \n",
       "2       241806.6406             -0.2664              0.2175   \n",
       "3       241816.4062             -0.2664              0.2175   \n",
       "4       241826.1719             -0.2664              0.2175   \n",
       "\n",
       "  Thigh_R_Gyroscope Z Thigh_R_Wide Range Accelerometer X  \\\n",
       "0             -0.8404                            -2.1075   \n",
       "1             -0.8404                            -2.1090   \n",
       "2             -1.1036                            -2.1872   \n",
       "3             -1.1036                            -2.1082   \n",
       "4             -1.1036                            -2.0293   \n",
       "\n",
       "  Thigh_R_Wide Range Accelerometer Y Thigh_R_Wide Range Accelerometer Z  \\\n",
       "0                             9.1086                             3.2014   \n",
       "1                             9.0322                             3.0518   \n",
       "2                             9.1850                             3.2015   \n",
       "3                             9.1850                             3.1255   \n",
       "4                             9.0322                             3.0510   \n",
       "\n",
       "  Thigh_R_Magnetometer X Thigh_R_Magnetometer Y Thigh_R_Magnetometer Z  ...  \\\n",
       "0                -0.2819                -0.7146                -0.2299  ...   \n",
       "1                -0.2819                -0.7223                -0.2321  ...   \n",
       "2                -0.2800                -0.7049                -0.2148  ...   \n",
       "3                -0.2876                -0.7049                -0.2169  ...   \n",
       "4                -0.2743                -0.6893                -0.2169  ...   \n",
       "\n",
       "  Pelvis_Gyroscope Y Pelvis_Gyroscope Z Pelvis_Wide Range Accelerometer X  \\\n",
       "0             0.5600             0.0212                           -0.1209   \n",
       "1             0.5600             0.0212                           -0.1209   \n",
       "2             0.5600             0.0212                           -0.1209   \n",
       "3             1.0746            -0.0255                           -0.2044   \n",
       "4             1.0746            -0.0255                           -0.2793   \n",
       "\n",
       "  Pelvis_Wide Range Accelerometer Y Pelvis_Wide Range Accelerometer Z  \\\n",
       "0                            9.6397                           -1.0211   \n",
       "1                            9.7162                           -1.0218   \n",
       "2                            9.7926                           -1.0226   \n",
       "3                            9.7123                           -1.4106   \n",
       "4                            9.7934                           -0.9448   \n",
       "\n",
       "  Pelvis_Magnetometer X Pelvis_Magnetometer Y Pelvis_Magnetometer Z  \\\n",
       "0               -0.1688               -0.6494               -0.1636   \n",
       "1               -0.1725               -0.6264               -0.1728   \n",
       "2               -0.1781               -0.6533               -0.1751   \n",
       "3               -0.1744               -0.6513               -0.1728   \n",
       "4               -0.1725               -0.6284               -0.1728   \n",
       "\n",
       "  Annotation_Pulse Annotation_Level  \n",
       "0           0.0000           0.0000  \n",
       "1           0.0000           0.0000  \n",
       "2           0.0000           0.0000  \n",
       "3           0.0000           0.0000  \n",
       "4           0.0000           0.0000  \n",
       "\n",
       "[5 rows x 72 columns]"
      ]
     },
     "execution_count": 16,
     "metadata": {},
     "output_type": "execute_result"
    }
   ],
   "source": [
    "lqw_raw[0].head()"
   ]
  },
  {
   "cell_type": "markdown",
   "metadata": {},
   "source": [
    "## Preprocess data\n",
    "### Apply filtering"
   ]
  },
  {
   "cell_type": "code",
   "execution_count": null,
   "metadata": {},
   "outputs": [],
   "source": [
    "# TODO "
   ]
  },
  {
   "cell_type": "markdown",
   "metadata": {},
   "source": [
    "### Apply the slinding window technique"
   ]
  },
  {
   "cell_type": "code",
   "execution_count": null,
   "metadata": {},
   "outputs": [],
   "source": [
    "# TODO"
   ]
  },
  {
   "cell_type": "markdown",
   "metadata": {},
   "source": [
    "## Train models\n",
    "### ANN"
   ]
  },
  {
   "cell_type": "code",
   "execution_count": null,
   "metadata": {},
   "outputs": [],
   "source": [
    "# TODO"
   ]
  },
  {
   "cell_type": "markdown",
   "metadata": {},
   "source": [
    "### SVM"
   ]
  },
  {
   "cell_type": "code",
   "execution_count": null,
   "metadata": {},
   "outputs": [],
   "source": [
    "# TODO"
   ]
  },
  {
   "cell_type": "markdown",
   "metadata": {},
   "source": [
    "### CNN"
   ]
  },
  {
   "cell_type": "code",
   "execution_count": null,
   "metadata": {},
   "outputs": [],
   "source": [
    "# TODO"
   ]
  },
  {
   "cell_type": "markdown",
   "metadata": {},
   "source": [
    "### Comparison"
   ]
  },
  {
   "cell_type": "code",
   "execution_count": null,
   "metadata": {},
   "outputs": [],
   "source": [
    "# TODO"
   ]
  }
 ],
 "metadata": {
  "kernelspec": {
   "display_name": "Python 3",
   "language": "python",
   "name": "python3"
  },
  "language_info": {
   "codemirror_mode": {
    "name": "ipython",
    "version": 3
   },
   "file_extension": ".py",
   "mimetype": "text/x-python",
   "name": "python",
   "nbconvert_exporter": "python",
   "pygments_lexer": "ipython3",
   "version": "3.10.10"
  }
 },
 "nbformat": 4,
 "nbformat_minor": 2
}
